{
 "cells": [
  {
   "cell_type": "markdown",
   "metadata": {},
   "source": [
    "# Data Pre-Processing"
   ]
  },
  {
   "cell_type": "markdown",
   "metadata": {},
   "source": [
    "#### Import Packages and excel"
   ]
  },
  {
   "cell_type": "code",
   "execution_count": 32,
   "metadata": {},
   "outputs": [],
   "source": [
    "# importing liabraries\n",
    "import numpy as np\n",
    "import pandas as pd\n",
    "import os\n",
    "import matplotlib.pyplot as plt\n",
    "import seaborn as sns\n",
    "sns.set_style('whitegrid')\n",
    "plt.rcParams['figure.dpi'] = 100\n",
    "\n",
    "from sklearn.preprocessing import StandardScaler\n",
    "import warnings\n",
    "warnings.filterwarnings('ignore')"
   ]
  },
  {
   "cell_type": "code",
   "execution_count": 35,
   "metadata": {},
   "outputs": [],
   "source": [
    "\n",
    "df=pd.read_excel(\"default of credit card data.xls\",header=1)\n",
    "\n",
    "\n"
   ]
  },
  {
   "cell_type": "code",
   "execution_count": 38,
   "metadata": {},
   "outputs": [
    {
     "data": {
      "text/html": [
       "<style type=\"text/css\">\n",
       "#T_ed2d7_row0_col0, #T_ed2d7_row0_col1, #T_ed2d7_row0_col3, #T_ed2d7_row0_col4, #T_ed2d7_row0_col5, #T_ed2d7_row0_col8, #T_ed2d7_row0_col9, #T_ed2d7_row0_col10, #T_ed2d7_row0_col11, #T_ed2d7_row0_col14, #T_ed2d7_row0_col15, #T_ed2d7_row0_col16, #T_ed2d7_row0_col17, #T_ed2d7_row0_col18, #T_ed2d7_row0_col19, #T_ed2d7_row0_col20, #T_ed2d7_row0_col21, #T_ed2d7_row0_col22, #T_ed2d7_row0_col23, #T_ed2d7_row1_col3, #T_ed2d7_row1_col6, #T_ed2d7_row1_col12, #T_ed2d7_row1_col13, #T_ed2d7_row1_col18, #T_ed2d7_row1_col22, #T_ed2d7_row2_col3, #T_ed2d7_row2_col7, #T_ed2d7_row2_col24, #T_ed2d7_row3_col3, #T_ed2d7_row3_col4, #T_ed2d7_row3_col7, #T_ed2d7_row3_col24, #T_ed2d7_row4_col2, #T_ed2d7_row4_col3, #T_ed2d7_row4_col4, #T_ed2d7_row4_col6, #T_ed2d7_row4_col7, #T_ed2d7_row4_col8, #T_ed2d7_row4_col24 {\n",
       "  background-color: #8000ff;\n",
       "  color: #f1f1f1;\n",
       "}\n",
       "#T_ed2d7_row0_col2, #T_ed2d7_row0_col6, #T_ed2d7_row0_col7, #T_ed2d7_row0_col24, #T_ed2d7_row1_col1, #T_ed2d7_row1_col2, #T_ed2d7_row1_col4, #T_ed2d7_row1_col7, #T_ed2d7_row1_col8, #T_ed2d7_row1_col9, #T_ed2d7_row1_col10, #T_ed2d7_row1_col11, #T_ed2d7_row1_col24, #T_ed2d7_row2_col2, #T_ed2d7_row2_col4, #T_ed2d7_row2_col8, #T_ed2d7_row2_col9, #T_ed2d7_row2_col10, #T_ed2d7_row2_col23, #T_ed2d7_row3_col2, #T_ed2d7_row3_col8, #T_ed2d7_row3_col9, #T_ed2d7_row3_col10, #T_ed2d7_row3_col12, #T_ed2d7_row3_col13, #T_ed2d7_row3_col14, #T_ed2d7_row3_col15, #T_ed2d7_row3_col16, #T_ed2d7_row3_col17, #T_ed2d7_row3_col18, #T_ed2d7_row3_col22, #T_ed2d7_row4_col0, #T_ed2d7_row4_col5, #T_ed2d7_row4_col9, #T_ed2d7_row4_col10, #T_ed2d7_row4_col18, #T_ed2d7_row4_col19, #T_ed2d7_row4_col20, #T_ed2d7_row4_col21 {\n",
       "  background-color: #ff0000;\n",
       "  color: #f1f1f1;\n",
       "}\n",
       "#T_ed2d7_row0_col12, #T_ed2d7_row0_col13 {\n",
       "  background-color: #7216ff;\n",
       "  color: #f1f1f1;\n",
       "}\n",
       "#T_ed2d7_row1_col0 {\n",
       "  background-color: #00b5eb;\n",
       "  color: #f1f1f1;\n",
       "}\n",
       "#T_ed2d7_row1_col5 {\n",
       "  background-color: #622ffe;\n",
       "  color: #f1f1f1;\n",
       "}\n",
       "#T_ed2d7_row1_col14 {\n",
       "  background-color: #6c1fff;\n",
       "  color: #f1f1f1;\n",
       "}\n",
       "#T_ed2d7_row1_col15 {\n",
       "  background-color: #4659fb;\n",
       "  color: #f1f1f1;\n",
       "}\n",
       "#T_ed2d7_row1_col16, #T_ed2d7_row3_col20 {\n",
       "  background-color: #445cfb;\n",
       "  color: #f1f1f1;\n",
       "}\n",
       "#T_ed2d7_row1_col17, #T_ed2d7_row1_col21, #T_ed2d7_row2_col21 {\n",
       "  background-color: #4856fb;\n",
       "  color: #f1f1f1;\n",
       "}\n",
       "#T_ed2d7_row1_col19 {\n",
       "  background-color: #7c06ff;\n",
       "  color: #f1f1f1;\n",
       "}\n",
       "#T_ed2d7_row1_col20, #T_ed2d7_row2_col20 {\n",
       "  background-color: #4e4dfc;\n",
       "  color: #f1f1f1;\n",
       "}\n",
       "#T_ed2d7_row1_col23 {\n",
       "  background-color: #4df3ce;\n",
       "  color: #000000;\n",
       "}\n",
       "#T_ed2d7_row2_col0, #T_ed2d7_row2_col11, #T_ed2d7_row3_col11, #T_ed2d7_row4_col11 {\n",
       "  background-color: #80ffb4;\n",
       "  color: #000000;\n",
       "}\n",
       "#T_ed2d7_row2_col1 {\n",
       "  background-color: #e6cd73;\n",
       "  color: #000000;\n",
       "}\n",
       "#T_ed2d7_row2_col5 {\n",
       "  background-color: #1acfe3;\n",
       "  color: #000000;\n",
       "}\n",
       "#T_ed2d7_row2_col6, #T_ed2d7_row3_col6 {\n",
       "  background-color: #2adddd;\n",
       "  color: #000000;\n",
       "}\n",
       "#T_ed2d7_row2_col12 {\n",
       "  background-color: #b2f396;\n",
       "  color: #000000;\n",
       "}\n",
       "#T_ed2d7_row2_col13, #T_ed2d7_row2_col14 {\n",
       "  background-color: #07bbea;\n",
       "  color: #000000;\n",
       "}\n",
       "#T_ed2d7_row2_col15 {\n",
       "  background-color: #82ffb3;\n",
       "  color: #000000;\n",
       "}\n",
       "#T_ed2d7_row2_col16 {\n",
       "  background-color: #88ffaf;\n",
       "  color: #000000;\n",
       "}\n",
       "#T_ed2d7_row2_col17 {\n",
       "  background-color: #8cfead;\n",
       "  color: #000000;\n",
       "}\n",
       "#T_ed2d7_row2_col18 {\n",
       "  background-color: #ffae5e;\n",
       "  color: #000000;\n",
       "}\n",
       "#T_ed2d7_row2_col19 {\n",
       "  background-color: #7610ff;\n",
       "  color: #f1f1f1;\n",
       "}\n",
       "#T_ed2d7_row2_col22 {\n",
       "  background-color: #ff3219;\n",
       "  color: #f1f1f1;\n",
       "}\n",
       "#T_ed2d7_row3_col0 {\n",
       "  background-color: #ffb360;\n",
       "  color: #000000;\n",
       "}\n",
       "#T_ed2d7_row3_col1, #T_ed2d7_row4_col1 {\n",
       "  background-color: #18cde4;\n",
       "  color: #000000;\n",
       "}\n",
       "#T_ed2d7_row3_col5 {\n",
       "  background-color: #48f1d0;\n",
       "  color: #000000;\n",
       "}\n",
       "#T_ed2d7_row3_col19 {\n",
       "  background-color: #6e1cff;\n",
       "  color: #f1f1f1;\n",
       "}\n",
       "#T_ed2d7_row3_col21 {\n",
       "  background-color: #425ffa;\n",
       "  color: #f1f1f1;\n",
       "}\n",
       "#T_ed2d7_row3_col23 {\n",
       "  background-color: #1996f3;\n",
       "  color: #f1f1f1;\n",
       "}\n",
       "#T_ed2d7_row4_col12, #T_ed2d7_row4_col23 {\n",
       "  background-color: #3c68f9;\n",
       "  color: #f1f1f1;\n",
       "}\n",
       "#T_ed2d7_row4_col13 {\n",
       "  background-color: #5641fd;\n",
       "  color: #f1f1f1;\n",
       "}\n",
       "#T_ed2d7_row4_col14 {\n",
       "  background-color: #f2c26b;\n",
       "  color: #000000;\n",
       "}\n",
       "#T_ed2d7_row4_col15 {\n",
       "  background-color: #fbb965;\n",
       "  color: #000000;\n",
       "}\n",
       "#T_ed2d7_row4_col16 {\n",
       "  background-color: #d2de81;\n",
       "  color: #000000;\n",
       "}\n",
       "#T_ed2d7_row4_col17 {\n",
       "  background-color: #cbe486;\n",
       "  color: #000000;\n",
       "}\n",
       "#T_ed2d7_row4_col22 {\n",
       "  background-color: #c8e688;\n",
       "  color: #000000;\n",
       "}\n",
       "</style>\n",
       "<table id=\"T_ed2d7\">\n",
       "  <thead>\n",
       "    <tr>\n",
       "      <th class=\"blank level0\" >&nbsp;</th>\n",
       "      <th id=\"T_ed2d7_level0_col0\" class=\"col_heading level0 col0\" >ID</th>\n",
       "      <th id=\"T_ed2d7_level0_col1\" class=\"col_heading level0 col1\" >LIMIT_BAL</th>\n",
       "      <th id=\"T_ed2d7_level0_col2\" class=\"col_heading level0 col2\" >SEX</th>\n",
       "      <th id=\"T_ed2d7_level0_col3\" class=\"col_heading level0 col3\" >EDUCATION</th>\n",
       "      <th id=\"T_ed2d7_level0_col4\" class=\"col_heading level0 col4\" >MARRIAGE</th>\n",
       "      <th id=\"T_ed2d7_level0_col5\" class=\"col_heading level0 col5\" >AGE</th>\n",
       "      <th id=\"T_ed2d7_level0_col6\" class=\"col_heading level0 col6\" >PAY_0</th>\n",
       "      <th id=\"T_ed2d7_level0_col7\" class=\"col_heading level0 col7\" >PAY_2</th>\n",
       "      <th id=\"T_ed2d7_level0_col8\" class=\"col_heading level0 col8\" >PAY_3</th>\n",
       "      <th id=\"T_ed2d7_level0_col9\" class=\"col_heading level0 col9\" >PAY_4</th>\n",
       "      <th id=\"T_ed2d7_level0_col10\" class=\"col_heading level0 col10\" >PAY_5</th>\n",
       "      <th id=\"T_ed2d7_level0_col11\" class=\"col_heading level0 col11\" >PAY_6</th>\n",
       "      <th id=\"T_ed2d7_level0_col12\" class=\"col_heading level0 col12\" >BILL_AMT1</th>\n",
       "      <th id=\"T_ed2d7_level0_col13\" class=\"col_heading level0 col13\" >BILL_AMT2</th>\n",
       "      <th id=\"T_ed2d7_level0_col14\" class=\"col_heading level0 col14\" >BILL_AMT3</th>\n",
       "      <th id=\"T_ed2d7_level0_col15\" class=\"col_heading level0 col15\" >BILL_AMT4</th>\n",
       "      <th id=\"T_ed2d7_level0_col16\" class=\"col_heading level0 col16\" >BILL_AMT5</th>\n",
       "      <th id=\"T_ed2d7_level0_col17\" class=\"col_heading level0 col17\" >BILL_AMT6</th>\n",
       "      <th id=\"T_ed2d7_level0_col18\" class=\"col_heading level0 col18\" >PAY_AMT1</th>\n",
       "      <th id=\"T_ed2d7_level0_col19\" class=\"col_heading level0 col19\" >PAY_AMT2</th>\n",
       "      <th id=\"T_ed2d7_level0_col20\" class=\"col_heading level0 col20\" >PAY_AMT3</th>\n",
       "      <th id=\"T_ed2d7_level0_col21\" class=\"col_heading level0 col21\" >PAY_AMT4</th>\n",
       "      <th id=\"T_ed2d7_level0_col22\" class=\"col_heading level0 col22\" >PAY_AMT5</th>\n",
       "      <th id=\"T_ed2d7_level0_col23\" class=\"col_heading level0 col23\" >PAY_AMT6</th>\n",
       "      <th id=\"T_ed2d7_level0_col24\" class=\"col_heading level0 col24\" >default payment next month</th>\n",
       "    </tr>\n",
       "  </thead>\n",
       "  <tbody>\n",
       "    <tr>\n",
       "      <th id=\"T_ed2d7_level0_row0\" class=\"row_heading level0 row0\" >0</th>\n",
       "      <td id=\"T_ed2d7_row0_col0\" class=\"data row0 col0\" >1</td>\n",
       "      <td id=\"T_ed2d7_row0_col1\" class=\"data row0 col1\" >20000</td>\n",
       "      <td id=\"T_ed2d7_row0_col2\" class=\"data row0 col2\" >2</td>\n",
       "      <td id=\"T_ed2d7_row0_col3\" class=\"data row0 col3\" >2</td>\n",
       "      <td id=\"T_ed2d7_row0_col4\" class=\"data row0 col4\" >1</td>\n",
       "      <td id=\"T_ed2d7_row0_col5\" class=\"data row0 col5\" >24</td>\n",
       "      <td id=\"T_ed2d7_row0_col6\" class=\"data row0 col6\" >2</td>\n",
       "      <td id=\"T_ed2d7_row0_col7\" class=\"data row0 col7\" >2</td>\n",
       "      <td id=\"T_ed2d7_row0_col8\" class=\"data row0 col8\" >-1</td>\n",
       "      <td id=\"T_ed2d7_row0_col9\" class=\"data row0 col9\" >-1</td>\n",
       "      <td id=\"T_ed2d7_row0_col10\" class=\"data row0 col10\" >-2</td>\n",
       "      <td id=\"T_ed2d7_row0_col11\" class=\"data row0 col11\" >-2</td>\n",
       "      <td id=\"T_ed2d7_row0_col12\" class=\"data row0 col12\" >3913</td>\n",
       "      <td id=\"T_ed2d7_row0_col13\" class=\"data row0 col13\" >3102</td>\n",
       "      <td id=\"T_ed2d7_row0_col14\" class=\"data row0 col14\" >689</td>\n",
       "      <td id=\"T_ed2d7_row0_col15\" class=\"data row0 col15\" >0</td>\n",
       "      <td id=\"T_ed2d7_row0_col16\" class=\"data row0 col16\" >0</td>\n",
       "      <td id=\"T_ed2d7_row0_col17\" class=\"data row0 col17\" >0</td>\n",
       "      <td id=\"T_ed2d7_row0_col18\" class=\"data row0 col18\" >0</td>\n",
       "      <td id=\"T_ed2d7_row0_col19\" class=\"data row0 col19\" >689</td>\n",
       "      <td id=\"T_ed2d7_row0_col20\" class=\"data row0 col20\" >0</td>\n",
       "      <td id=\"T_ed2d7_row0_col21\" class=\"data row0 col21\" >0</td>\n",
       "      <td id=\"T_ed2d7_row0_col22\" class=\"data row0 col22\" >0</td>\n",
       "      <td id=\"T_ed2d7_row0_col23\" class=\"data row0 col23\" >0</td>\n",
       "      <td id=\"T_ed2d7_row0_col24\" class=\"data row0 col24\" >1</td>\n",
       "    </tr>\n",
       "    <tr>\n",
       "      <th id=\"T_ed2d7_level0_row1\" class=\"row_heading level0 row1\" >1</th>\n",
       "      <td id=\"T_ed2d7_row1_col0\" class=\"data row1 col0\" >2</td>\n",
       "      <td id=\"T_ed2d7_row1_col1\" class=\"data row1 col1\" >120000</td>\n",
       "      <td id=\"T_ed2d7_row1_col2\" class=\"data row1 col2\" >2</td>\n",
       "      <td id=\"T_ed2d7_row1_col3\" class=\"data row1 col3\" >2</td>\n",
       "      <td id=\"T_ed2d7_row1_col4\" class=\"data row1 col4\" >2</td>\n",
       "      <td id=\"T_ed2d7_row1_col5\" class=\"data row1 col5\" >26</td>\n",
       "      <td id=\"T_ed2d7_row1_col6\" class=\"data row1 col6\" >-1</td>\n",
       "      <td id=\"T_ed2d7_row1_col7\" class=\"data row1 col7\" >2</td>\n",
       "      <td id=\"T_ed2d7_row1_col8\" class=\"data row1 col8\" >0</td>\n",
       "      <td id=\"T_ed2d7_row1_col9\" class=\"data row1 col9\" >0</td>\n",
       "      <td id=\"T_ed2d7_row1_col10\" class=\"data row1 col10\" >0</td>\n",
       "      <td id=\"T_ed2d7_row1_col11\" class=\"data row1 col11\" >2</td>\n",
       "      <td id=\"T_ed2d7_row1_col12\" class=\"data row1 col12\" >2682</td>\n",
       "      <td id=\"T_ed2d7_row1_col13\" class=\"data row1 col13\" >1725</td>\n",
       "      <td id=\"T_ed2d7_row1_col14\" class=\"data row1 col14\" >2682</td>\n",
       "      <td id=\"T_ed2d7_row1_col15\" class=\"data row1 col15\" >3272</td>\n",
       "      <td id=\"T_ed2d7_row1_col16\" class=\"data row1 col16\" >3455</td>\n",
       "      <td id=\"T_ed2d7_row1_col17\" class=\"data row1 col17\" >3261</td>\n",
       "      <td id=\"T_ed2d7_row1_col18\" class=\"data row1 col18\" >0</td>\n",
       "      <td id=\"T_ed2d7_row1_col19\" class=\"data row1 col19\" >1000</td>\n",
       "      <td id=\"T_ed2d7_row1_col20\" class=\"data row1 col20\" >1000</td>\n",
       "      <td id=\"T_ed2d7_row1_col21\" class=\"data row1 col21\" >1000</td>\n",
       "      <td id=\"T_ed2d7_row1_col22\" class=\"data row1 col22\" >0</td>\n",
       "      <td id=\"T_ed2d7_row1_col23\" class=\"data row1 col23\" >2000</td>\n",
       "      <td id=\"T_ed2d7_row1_col24\" class=\"data row1 col24\" >1</td>\n",
       "    </tr>\n",
       "    <tr>\n",
       "      <th id=\"T_ed2d7_level0_row2\" class=\"row_heading level0 row2\" >2</th>\n",
       "      <td id=\"T_ed2d7_row2_col0\" class=\"data row2 col0\" >3</td>\n",
       "      <td id=\"T_ed2d7_row2_col1\" class=\"data row2 col1\" >90000</td>\n",
       "      <td id=\"T_ed2d7_row2_col2\" class=\"data row2 col2\" >2</td>\n",
       "      <td id=\"T_ed2d7_row2_col3\" class=\"data row2 col3\" >2</td>\n",
       "      <td id=\"T_ed2d7_row2_col4\" class=\"data row2 col4\" >2</td>\n",
       "      <td id=\"T_ed2d7_row2_col5\" class=\"data row2 col5\" >34</td>\n",
       "      <td id=\"T_ed2d7_row2_col6\" class=\"data row2 col6\" >0</td>\n",
       "      <td id=\"T_ed2d7_row2_col7\" class=\"data row2 col7\" >0</td>\n",
       "      <td id=\"T_ed2d7_row2_col8\" class=\"data row2 col8\" >0</td>\n",
       "      <td id=\"T_ed2d7_row2_col9\" class=\"data row2 col9\" >0</td>\n",
       "      <td id=\"T_ed2d7_row2_col10\" class=\"data row2 col10\" >0</td>\n",
       "      <td id=\"T_ed2d7_row2_col11\" class=\"data row2 col11\" >0</td>\n",
       "      <td id=\"T_ed2d7_row2_col12\" class=\"data row2 col12\" >29239</td>\n",
       "      <td id=\"T_ed2d7_row2_col13\" class=\"data row2 col13\" >14027</td>\n",
       "      <td id=\"T_ed2d7_row2_col14\" class=\"data row2 col14\" >13559</td>\n",
       "      <td id=\"T_ed2d7_row2_col15\" class=\"data row2 col15\" >14331</td>\n",
       "      <td id=\"T_ed2d7_row2_col16\" class=\"data row2 col16\" >14948</td>\n",
       "      <td id=\"T_ed2d7_row2_col17\" class=\"data row2 col17\" >15549</td>\n",
       "      <td id=\"T_ed2d7_row2_col18\" class=\"data row2 col18\" >1518</td>\n",
       "      <td id=\"T_ed2d7_row2_col19\" class=\"data row2 col19\" >1500</td>\n",
       "      <td id=\"T_ed2d7_row2_col20\" class=\"data row2 col20\" >1000</td>\n",
       "      <td id=\"T_ed2d7_row2_col21\" class=\"data row2 col21\" >1000</td>\n",
       "      <td id=\"T_ed2d7_row2_col22\" class=\"data row2 col22\" >1000</td>\n",
       "      <td id=\"T_ed2d7_row2_col23\" class=\"data row2 col23\" >5000</td>\n",
       "      <td id=\"T_ed2d7_row2_col24\" class=\"data row2 col24\" >0</td>\n",
       "    </tr>\n",
       "    <tr>\n",
       "      <th id=\"T_ed2d7_level0_row3\" class=\"row_heading level0 row3\" >3</th>\n",
       "      <td id=\"T_ed2d7_row3_col0\" class=\"data row3 col0\" >4</td>\n",
       "      <td id=\"T_ed2d7_row3_col1\" class=\"data row3 col1\" >50000</td>\n",
       "      <td id=\"T_ed2d7_row3_col2\" class=\"data row3 col2\" >2</td>\n",
       "      <td id=\"T_ed2d7_row3_col3\" class=\"data row3 col3\" >2</td>\n",
       "      <td id=\"T_ed2d7_row3_col4\" class=\"data row3 col4\" >1</td>\n",
       "      <td id=\"T_ed2d7_row3_col5\" class=\"data row3 col5\" >37</td>\n",
       "      <td id=\"T_ed2d7_row3_col6\" class=\"data row3 col6\" >0</td>\n",
       "      <td id=\"T_ed2d7_row3_col7\" class=\"data row3 col7\" >0</td>\n",
       "      <td id=\"T_ed2d7_row3_col8\" class=\"data row3 col8\" >0</td>\n",
       "      <td id=\"T_ed2d7_row3_col9\" class=\"data row3 col9\" >0</td>\n",
       "      <td id=\"T_ed2d7_row3_col10\" class=\"data row3 col10\" >0</td>\n",
       "      <td id=\"T_ed2d7_row3_col11\" class=\"data row3 col11\" >0</td>\n",
       "      <td id=\"T_ed2d7_row3_col12\" class=\"data row3 col12\" >46990</td>\n",
       "      <td id=\"T_ed2d7_row3_col13\" class=\"data row3 col13\" >48233</td>\n",
       "      <td id=\"T_ed2d7_row3_col14\" class=\"data row3 col14\" >49291</td>\n",
       "      <td id=\"T_ed2d7_row3_col15\" class=\"data row3 col15\" >28314</td>\n",
       "      <td id=\"T_ed2d7_row3_col16\" class=\"data row3 col16\" >28959</td>\n",
       "      <td id=\"T_ed2d7_row3_col17\" class=\"data row3 col17\" >29547</td>\n",
       "      <td id=\"T_ed2d7_row3_col18\" class=\"data row3 col18\" >2000</td>\n",
       "      <td id=\"T_ed2d7_row3_col19\" class=\"data row3 col19\" >2019</td>\n",
       "      <td id=\"T_ed2d7_row3_col20\" class=\"data row3 col20\" >1200</td>\n",
       "      <td id=\"T_ed2d7_row3_col21\" class=\"data row3 col21\" >1100</td>\n",
       "      <td id=\"T_ed2d7_row3_col22\" class=\"data row3 col22\" >1069</td>\n",
       "      <td id=\"T_ed2d7_row3_col23\" class=\"data row3 col23\" >1000</td>\n",
       "      <td id=\"T_ed2d7_row3_col24\" class=\"data row3 col24\" >0</td>\n",
       "    </tr>\n",
       "    <tr>\n",
       "      <th id=\"T_ed2d7_level0_row4\" class=\"row_heading level0 row4\" >4</th>\n",
       "      <td id=\"T_ed2d7_row4_col0\" class=\"data row4 col0\" >5</td>\n",
       "      <td id=\"T_ed2d7_row4_col1\" class=\"data row4 col1\" >50000</td>\n",
       "      <td id=\"T_ed2d7_row4_col2\" class=\"data row4 col2\" >1</td>\n",
       "      <td id=\"T_ed2d7_row4_col3\" class=\"data row4 col3\" >2</td>\n",
       "      <td id=\"T_ed2d7_row4_col4\" class=\"data row4 col4\" >1</td>\n",
       "      <td id=\"T_ed2d7_row4_col5\" class=\"data row4 col5\" >57</td>\n",
       "      <td id=\"T_ed2d7_row4_col6\" class=\"data row4 col6\" >-1</td>\n",
       "      <td id=\"T_ed2d7_row4_col7\" class=\"data row4 col7\" >0</td>\n",
       "      <td id=\"T_ed2d7_row4_col8\" class=\"data row4 col8\" >-1</td>\n",
       "      <td id=\"T_ed2d7_row4_col9\" class=\"data row4 col9\" >0</td>\n",
       "      <td id=\"T_ed2d7_row4_col10\" class=\"data row4 col10\" >0</td>\n",
       "      <td id=\"T_ed2d7_row4_col11\" class=\"data row4 col11\" >0</td>\n",
       "      <td id=\"T_ed2d7_row4_col12\" class=\"data row4 col12\" >8617</td>\n",
       "      <td id=\"T_ed2d7_row4_col13\" class=\"data row4 col13\" >5670</td>\n",
       "      <td id=\"T_ed2d7_row4_col14\" class=\"data row4 col14\" >35835</td>\n",
       "      <td id=\"T_ed2d7_row4_col15\" class=\"data row4 col15\" >20940</td>\n",
       "      <td id=\"T_ed2d7_row4_col16\" class=\"data row4 col16\" >19146</td>\n",
       "      <td id=\"T_ed2d7_row4_col17\" class=\"data row4 col17\" >19131</td>\n",
       "      <td id=\"T_ed2d7_row4_col18\" class=\"data row4 col18\" >2000</td>\n",
       "      <td id=\"T_ed2d7_row4_col19\" class=\"data row4 col19\" >36681</td>\n",
       "      <td id=\"T_ed2d7_row4_col20\" class=\"data row4 col20\" >10000</td>\n",
       "      <td id=\"T_ed2d7_row4_col21\" class=\"data row4 col21\" >9000</td>\n",
       "      <td id=\"T_ed2d7_row4_col22\" class=\"data row4 col22\" >689</td>\n",
       "      <td id=\"T_ed2d7_row4_col23\" class=\"data row4 col23\" >679</td>\n",
       "      <td id=\"T_ed2d7_row4_col24\" class=\"data row4 col24\" >0</td>\n",
       "    </tr>\n",
       "  </tbody>\n",
       "</table>\n"
      ],
      "text/plain": [
       "<pandas.io.formats.style.Styler at 0x23e22e5d130>"
      ]
     },
     "execution_count": 38,
     "metadata": {},
     "output_type": "execute_result"
    }
   ],
   "source": [
    "df.head().style.background_gradient(cmap='rainbow')"
   ]
  },
  {
   "cell_type": "markdown",
   "metadata": {},
   "source": [
    "## Data Cleaning\n",
    "\n",
    "### Handling Missing values\n",
    "\n",
    "* Handling Missing values \n",
    "* Handling Duplicates\n",
    "* Check data type\n",
    "* Understand the dataset\n",
    "\n",
    "\n",
    "#### Check Null Values"
   ]
  },
  {
   "cell_type": "code",
   "execution_count": 20,
   "metadata": {},
   "outputs": [],
   "source": [
    "##these are the features with nan value\n",
    "features_with_na=[features for features in df.columns if df[features].isnull().sum()>=1]\n",
    "for feature in features_with_na:\n",
    "    print(feature,np.round(df[feature].isnull().mean()*100,5), '%missing values')"
   ]
  },
  {
   "cell_type": "code",
   "execution_count": 21,
   "metadata": {},
   "outputs": [
    {
     "data": {
      "text/plain": [
       "[]"
      ]
     },
     "execution_count": 21,
     "metadata": {},
     "output_type": "execute_result"
    }
   ],
   "source": [
    "features_with_na"
   ]
  },
  {
   "cell_type": "markdown",
   "metadata": {},
   "source": [
    "* **There are no null values in the dataset**"
   ]
  },
  {
   "cell_type": "markdown",
   "metadata": {},
   "source": [
    "###  Other Data Cleaning steps"
   ]
  },
  {
   "cell_type": "markdown",
   "metadata": {},
   "source": [
    "**Handling Duplicates**"
   ]
  },
  {
   "cell_type": "code",
   "execution_count": 22,
   "metadata": {},
   "outputs": [
    {
     "data": {
      "text/plain": [
       "0"
      ]
     },
     "execution_count": 22,
     "metadata": {},
     "output_type": "execute_result"
    }
   ],
   "source": [
    "df.duplicated().sum()"
   ]
  },
  {
   "cell_type": "markdown",
   "metadata": {},
   "source": [
    "* **No Duplicates in the dataset**"
   ]
  },
  {
   "cell_type": "markdown",
   "metadata": {},
   "source": [
    "**Remove id from the dataset as it cannot used in Model Training**"
   ]
  },
  {
   "cell_type": "code",
   "execution_count": 23,
   "metadata": {},
   "outputs": [],
   "source": [
    "df.drop('ID', inplace=True, axis=1)"
   ]
  },
  {
   "cell_type": "markdown",
   "metadata": {},
   "source": [
    "# Feature Engineering"
   ]
  },
  {
   "cell_type": "markdown",
   "metadata": {},
   "source": [
    "## Feature Extraction"
   ]
  },
  {
   "cell_type": "markdown",
   "metadata": {},
   "source": [
    "- importing date class from datetime module\n",
    "- from datetime import date\n",
    "  \n",
    "- creating the date object of today's date\n",
    "- todays_date = date.today()\n",
    "- current_year= todays_date.year\n",
    "- df['company_age'] = current_year-df['yr_of_estab']"
   ]
  },
  {
   "cell_type": "markdown",
   "metadata": {},
   "source": [
    "### Type of Features"
   ]
  },
  {
   "cell_type": "markdown",
   "metadata": {},
   "source": [
    "**Numeric Features**"
   ]
  },
  {
   "cell_type": "code",
   "execution_count": 24,
   "metadata": {},
   "outputs": [
    {
     "name": "stdout",
     "output_type": "stream",
     "text": [
      "Num of Numerical Features : 24\n"
     ]
    }
   ],
   "source": [
    "num_features = [feature for feature in df.columns if df[feature].dtype != 'O']\n",
    "print('Num of Numerical Features :', len(num_features))"
   ]
  },
  {
   "cell_type": "markdown",
   "metadata": {},
   "source": [
    "**Categorical Features**"
   ]
  },
  {
   "cell_type": "code",
   "execution_count": 25,
   "metadata": {},
   "outputs": [
    {
     "name": "stdout",
     "output_type": "stream",
     "text": [
      "Num of Categorical Features : 0\n"
     ]
    }
   ],
   "source": [
    "cat_features = [feature for feature in df.columns if df[feature].dtype == 'O']\n",
    "print('Num of Categorical Features :', len(cat_features))"
   ]
  },
  {
   "cell_type": "markdown",
   "metadata": {},
   "source": [
    "**Discrete features**"
   ]
  },
  {
   "cell_type": "code",
   "execution_count": 26,
   "metadata": {},
   "outputs": [
    {
     "name": "stdout",
     "output_type": "stream",
     "text": [
      "We have 10 discrete features : ['SEX', 'EDUCATION', 'MARRIAGE', 'PAY_0', 'PAY_2', 'PAY_3', 'PAY_4', 'PAY_5', 'PAY_6', 'default payment next month']\n"
     ]
    }
   ],
   "source": [
    "discrete_features=[feature for feature in num_features if len(df[feature].unique())<=25]\n",
    "print('We have {} discrete features : {}'.format(len(discrete_features), discrete_features))\n"
   ]
  },
  {
   "cell_type": "markdown",
   "metadata": {},
   "source": [
    "**Continues Features**"
   ]
  },
  {
   "cell_type": "code",
   "execution_count": 40,
   "metadata": {},
   "outputs": [
    {
     "name": "stdout",
     "output_type": "stream",
     "text": [
      "\n",
      "We have 14 continuous_features : ['LIMIT_BAL', 'AGE', 'BILL_AMT1', 'BILL_AMT2', 'BILL_AMT3', 'BILL_AMT4', 'BILL_AMT5', 'BILL_AMT6', 'PAY_AMT1', 'PAY_AMT2', 'PAY_AMT3', 'PAY_AMT4', 'PAY_AMT5', 'PAY_AMT6']\n"
     ]
    }
   ],
   "source": [
    "continuous_features=[feature for feature in num_features if feature not in discrete_features]\n",
    "print('\\nWe have {} continuous_features : {}'.format(len(continuous_features), continuous_features))"
   ]
  },
  {
   "cell_type": "markdown",
   "metadata": {},
   "source": []
  },
  {
   "cell_type": "markdown",
   "metadata": {},
   "source": [
    "## Feature Selection"
   ]
  },
  {
   "cell_type": "markdown",
   "metadata": {},
   "source": []
  },
  {
   "cell_type": "code",
   "execution_count": null,
   "metadata": {},
   "outputs": [],
   "source": []
  }
 ],
 "metadata": {
  "kernelspec": {
   "display_name": "credit_card_fraud",
   "language": "python",
   "name": "python3"
  },
  "language_info": {
   "codemirror_mode": {
    "name": "ipython",
    "version": 3
   },
   "file_extension": ".py",
   "mimetype": "text/x-python",
   "name": "python",
   "nbconvert_exporter": "python",
   "pygments_lexer": "ipython3",
   "version": "3.8.19"
  }
 },
 "nbformat": 4,
 "nbformat_minor": 2
}
